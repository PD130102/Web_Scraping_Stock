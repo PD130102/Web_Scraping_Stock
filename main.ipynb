{
 "cells": [
  {
   "cell_type": "code",
   "execution_count": null,
   "metadata": {},
   "outputs": [],
   "source": []
  }
 ],
 "metadata": {
  "kernelspec": {
   "display_name": "Python 3",
   "language": "python",
   "name": "python3"
  },
  "language_info": {
   "name": "python",
   "version": "3.10.9"
  },
  "orig_nbformat": 4,
  "vscode": {
   "interpreter": {
    "hash": "7141c9aa51296b64f2b6c8c4d0b562e38310353750854177e71ef248ad5403fb"
   }
  }
 },
 "nbformat": 4,
 "nbformat_minor": 2
}
