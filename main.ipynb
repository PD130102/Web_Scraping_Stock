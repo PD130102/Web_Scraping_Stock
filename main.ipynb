{
 "cells": [
  {
   "cell_type": "code",
   "execution_count": null,
   "metadata": {},
   "outputs": [],
   "source": [
    "import pandas as pd\n",
    "import bs4 as bs\n",
    "import requests\n",
    "import time\n",
    "import numpy as np\n",
    "import random"
   ]
  },
  {
   "cell_type": "code",
   "execution_count": null,
   "metadata": {},
   "outputs": [],
   "source": [
    "df = pd.read_excel('./Fin_Res_Q3_22_23_12_Feb_2023_in_V1.xlsx')\n",
    "df = df.rename(columns=df.iloc[0]).drop(df.index[0])\n",
    "urls = df[\"res_url\"].tolist()"
   ]
  },
  {
   "cell_type": "code",
   "execution_count": null,
   "metadata": {},
   "outputs": [],
   "source": [
    "def delay ():\n",
    "    time.sleep(random.randint(1,5))"
   ]
  },
  {
   "cell_type": "code",
   "execution_count": null,
   "metadata": {},
   "outputs": [],
   "source": [
    "def get_data(url):\n",
    "    delay()\n",
    "    resp = requests.get(url)\n",
    "    soup = bs.BeautifulSoup(resp.text, 'html.parser')\n",
    "    table = soup.find('table', {'class': 'mctable1'})\n",
    "    data = []\n",
    "    if table is None:\n",
    "        return data\n",
    "    for row in table.findAll('tr'):\n",
    "        cols = row.findAll('td')\n",
    "        cols = [ele.text.strip() for ele in cols]\n",
    "        data.append([ele for ele in cols if ele])\n",
    "    return data"
   ]
  },
  {
   "cell_type": "code",
   "execution_count": null,
   "metadata": {},
   "outputs": [],
   "source": [
    "outdf = pd.DataFrame(columns=[\"SYMB\", \" DEC '22_R\", \" DEC '22_V\", \" DEC '22_DEPS\",\n",
    "                                \" DEC '22_Interest\", \" DEC '22_Gross NPA\", \" DEC '22_Net NPA\", \"LUU\",\n",
    "                                    \"RES_CATG_1\", \"RES_CATG_2\", \"L_RES_DT\", \"DATA_AVAILABLE\",\n",
    "                                    \"Last Available Data\", \"TIME STAMP\", \"RES_URL\", \"SECTOR\"])"
   ]
  },
  {
   "cell_type": "code",
   "execution_count": null,
   "metadata": {},
   "outputs": [],
   "source": [
    "def fill_df(urls):\n",
    "    for url in urls:\n",
    "        data = get_data(url)\n",
    "        if len(data) == 0:\n",
    "            outdf.loc[urls.index(url), \"RES_URL\"] = df.loc[urls.index(url)+1, \"res_url\"]\n",
    "            outdf.loc[urls.index(url), \"DATA_AVAILABLE\"] = \"N\"\n",
    "            outdf.loc[urls.index(url), \"TIME STAMP\"] = time.strftime(\"%d/%m/%Y %H:%M:%S\")\n",
    "            outdf.loc[urls.index(url), \"SECTOR\"] = df.loc[urls.index(url)+1, \"sectr\"]\n",
    "            outdf.loc[urls.index(url),'SYMB'] = df.loc[urls.index(url)+1, \"symb\"]\n",
    "            outdf.loc[urls.index(url), \"LUU\"] = df.loc[urls.index(url)+1, \"LUU\"]\n",
    "            outdf.loc[urls.index(url), \"RES_CATG_1\"] = df.loc[urls.index(url)+1, \"res_catg1\"]\n",
    "            outdf.loc[urls.index(url), \"RES_CATG_2\"] = df.loc[urls.index(url)+1, \"res_catg2\"]\n",
    "            outdf.loc[urls.index(url), \"L_RES_DT\"] = df.loc[urls.index(url)+1, \"l_res_dt\"]\n",
    "            outdf.loc[urls.index(url), \"Last Available Data\"] = \"NONE\"\n",
    "        elif len(data) > 0:\n",
    "            dg = pd.DataFrame(data,index=None,columns=None)\n",
    "            dg.columns = dg.iloc[0]\n",
    "            dg = dg.drop(dg.index[0])\n",
    "            dg = dg.iloc[:, :2]\n",
    "            outdf.loc[urls.index(url),'SYMB'] = df.loc[urls.index(url)+1, \"symb\"]\n",
    "            outdf.loc[urls.index(url), \"LUU\"] = df.loc[urls.index(url)+1, \"LUU\"]\n",
    "            outdf.loc[urls.index(url), \"RES_CATG_1\"] = df.loc[urls.index(url)+1, \"res_catg1\"]\n",
    "            outdf.loc[urls.index(url), \"RES_CATG_2\"] = df.loc[urls.index(url)+1, \"res_catg2\"]\n",
    "            outdf.loc[urls.index(url), \"L_RES_DT\"] = df.loc[urls.index(url)+1, \"l_res_dt\"]\n",
    "            outdf.loc[urls.index(url), \"RES_URL\"] = df.loc[urls.index(url)+1, \"res_url\"]\n",
    "            outdf.loc[urls.index(url), \"SECTOR\"] = df.loc[urls.index(url)+1, \"sectr\"]\n",
    "            outdf.loc[urls.index(url), \" DEC '22_R\"] = dg.loc[1][1]\n",
    "            outdf.loc[urls.index(url), \" DEC '22_V\"] = dg.loc[28][1]\n",
    "            outdf.loc[urls.index(url), \" DEC '22_DEPS\"] = dg.loc[37][1]\n",
    "            outdf.loc[urls.index(url), \" DEC '22_Interest\"] = dg.loc[20][1]\n",
    "            outdf.loc[urls.index(url), \"DATA_AVAILABLE\"] = \"Y\"\n",
    "            outdf.loc[urls.index(url), \"Last Available Data\"] = dg.columns[1]\n",
    "            outdf.loc[urls.index(url), \"TIME STAMP\"] = time.strftime(\"%d/%m/%Y %H:%M:%S\")\n",
    "            if outdf.loc[urls.index(url), \"SECTOR\"] == \"Banks\":\n",
    "                outdf.loc[urls.index(url), \" DEC '22_R\"] = dg.loc[2][1]\n",
    "                outdf.loc[urls.index(url), \" DEC '22_V\"] = dg.loc[20][1]\n",
    "                outdf.loc[urls.index(url), \" DEC '22_DEPS\"] = dg.loc[30][1]\n",
    "                outdf.loc[urls.index(url), \" DEC '22_Interest\"] = \"0\"\n",
    "                outdf.loc[urls.index(url), \" DEC '22_Gross NPA\"] = dg.loc[35][1]\n",
    "                outdf.loc[urls.index(url), \" DEC '22_Net NPA\"] = dg.loc[36][1]\n",
    "\n",
    "    return outdf"
   ]
  },
  {
   "cell_type": "code",
   "execution_count": null,
   "metadata": {},
   "outputs": [],
   "source": [
    "output = fill_df(urls)\n",
    "output.to_excel(\"output.xlsx\", index=False)\n",
    "output"
   ]
  }
 ],
 "metadata": {
  "kernelspec": {
   "display_name": "webscrape",
   "language": "python",
   "name": "python3"
  },
  "language_info": {
   "codemirror_mode": {
    "name": "ipython",
    "version": 3
   },
   "file_extension": ".py",
   "mimetype": "text/x-python",
   "name": "python",
   "nbconvert_exporter": "python",
   "pygments_lexer": "ipython3",
   "version": "3.11.0"
  },
  "orig_nbformat": 4,
  "vscode": {
   "interpreter": {
    "hash": "2312a2784c7cf9495d3552f4408944283f59e3860b0617880ff739a7a12dc016"
   }
  }
 },
 "nbformat": 4,
 "nbformat_minor": 2
}
