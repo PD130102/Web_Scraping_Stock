{
 "cells": [
  {
   "cell_type": "code",
   "execution_count": 66,
   "metadata": {},
   "outputs": [],
   "source": [
    "import bs4\n",
    "import asyncio\n",
    "import aiohttp\n",
    "import pandas as pd\n",
    "import time\n",
    "import nest_asyncio"
   ]
  },
  {
   "cell_type": "code",
   "execution_count": 4,
   "metadata": {},
   "outputs": [],
   "source": [
    "df = pd.read_excel('./Fin_Res_Q3_22_23_12_Feb_2023_in_V1.xlsx')\n",
    "df = df.rename(columns=df.iloc[0]).drop(df.index[0])\n",
    "urls = df[\"res_url\"].tolist()"
   ]
  },
  {
   "cell_type": "code",
   "execution_count": 5,
   "metadata": {},
   "outputs": [],
   "source": [
    "outdf = pd.DataFrame(columns=[\"SYMB\", \" DEC '22_R\", \" DEC '22_V\", \" DEC '22_DEPS\",\n",
    "                              \" DEC '22_Interest\", \" DEC '22_Gross NPA\", \" DEC '22_Net NPA\", \"LUU\",\n",
    "                              \"RES_CATG_1\", \"RES_CATG_2\", \"L_RES_DT\", \"DATA_AVAILABLE\",\n",
    "                              \"Last Available Data\", \"TIME STAMP\", \"RES_URL\", \"SECTOR\"])\n",
    "\n",
    "def fill_df(url,data):\n",
    "        if len(data) == 0:\n",
    "            outdf.loc[urls.index(url), \"RES_URL\"] = df.loc[urls.index(url)+1, \"res_url\"]\n",
    "            outdf.loc[urls.index(url), \"DATA_AVAILABLE\"] = \"N\"\n",
    "            outdf.loc[urls.index(url), \"TIME STAMP\"] = time.strftime(\"%d/%m/%Y %H:%M:%S\")\n",
    "            outdf.loc[urls.index(url), \"SECTOR\"] = df.loc[urls.index(url)+1, \"sectr\"]\n",
    "            outdf.loc[urls.index(url),'SYMB'] = df.loc[urls.index(url)+1, \"symb\"]\n",
    "            outdf.loc[urls.index(url), \"LUU\"] = df.loc[urls.index(url)+1, \"LUU\"]\n",
    "            outdf.loc[urls.index(url), \"RES_CATG_1\"] = df.loc[urls.index(url)+1, \"res_catg1\"]\n",
    "            outdf.loc[urls.index(url), \"RES_CATG_2\"] = df.loc[urls.index(url)+1, \"res_catg2\"]\n",
    "            outdf.loc[urls.index(url), \"L_RES_DT\"] = df.loc[urls.index(url)+1, \"l_res_dt\"]\n",
    "            outdf.loc[urls.index(url), \"Last Available Data\"] = \"NONE\"\n",
    "        elif len(data) > 0:\n",
    "            dg = pd.DataFrame(data,index=None,columns=None)\n",
    "            dg.columns = dg.iloc[0]\n",
    "            dg = dg.drop(dg.index[0])\n",
    "            dg = dg.iloc[:, :2]\n",
    "            outdf.loc[urls.index(url),'SYMB'] = df.loc[urls.index(url)+1, \"symb\"]\n",
    "            outdf.loc[urls.index(url), \"LUU\"] = df.loc[urls.index(url)+1, \"LUU\"]\n",
    "            outdf.loc[urls.index(url), \"RES_CATG_1\"] = df.loc[urls.index(url)+1, \"res_catg1\"]\n",
    "            outdf.loc[urls.index(url), \"RES_CATG_2\"] = df.loc[urls.index(url)+1, \"res_catg2\"]\n",
    "            outdf.loc[urls.index(url), \"L_RES_DT\"] = df.loc[urls.index(url)+1, \"l_res_dt\"]\n",
    "            outdf.loc[urls.index(url), \"RES_URL\"] = df.loc[urls.index(url)+1, \"res_url\"]\n",
    "            outdf.loc[urls.index(url), \"SECTOR\"] = df.loc[urls.index(url)+1, \"sectr\"]\n",
    "            outdf.loc[urls.index(url), \" DEC '22_R\"] = dg.loc[1][1]\n",
    "            outdf.loc[urls.index(url), \" DEC '22_V\"] = dg.loc[28][1]\n",
    "            outdf.loc[urls.index(url), \" DEC '22_DEPS\"] = dg.loc[37][1]\n",
    "            outdf.loc[urls.index(url), \" DEC '22_Interest\"] = dg.loc[20][1]\n",
    "            outdf.loc[urls.index(url), \"DATA_AVAILABLE\"] = \"Y\"\n",
    "            outdf.loc[urls.index(url), \"Last Available Data\"] = dg.columns[1]\n",
    "            outdf.loc[urls.index(url), \"TIME STAMP\"] = time.strftime(\"%d/%m/%Y %H:%M:%S\")\n",
    "            if outdf.loc[urls.index(url), \"SECTOR\"] == \"Banks\":\n",
    "                outdf.loc[urls.index(url), \" DEC '22_R\"] = dg.loc[2][1]\n",
    "                outdf.loc[urls.index(url), \" DEC '22_V\"] = dg.loc[20][1]\n",
    "                outdf.loc[urls.index(url), \" DEC '22_DEPS\"] = dg.loc[30][1]\n",
    "                outdf.loc[urls.index(url), \" DEC '22_Interest\"] = \"0\"\n",
    "                outdf.loc[urls.index(url), \" DEC '22_Gross NPA\"] = dg.loc[35][1]\n",
    "                outdf.loc[urls.index(url), \" DEC '22_Net NPA\"] = dg.loc[36][1]"
   ]
  },
  {
   "cell_type": "code",
   "execution_count": 87,
   "metadata": {},
   "outputs": [],
   "source": [
    "html = []"
   ]
  },
  {
   "cell_type": "code",
   "execution_count": 101,
   "metadata": {},
   "outputs": [],
   "source": [
    "async def get_data():\n",
    "    async with aiohttp.ClientSession() as session:\n",
    "        for url in urls[:3]:\n",
    "            async with session.get(url) as response:\n",
    "                html.append(await response.text())\n",
    "            "
   ]
  },
  {
   "cell_type": "code",
   "execution_count": 99,
   "metadata": {},
   "outputs": [],
   "source": [
    "tasks = asyncio.gather(get_data())\n",
    "nest_asyncio.apply()\n",
    "loop = asyncio.get_event_loop()\n",
    "loop.run_until_complete(tasks)\n",
    "\n",
    "for i in range(len(html)):\n",
    "    soup = bs4.BeautifulSoup(html[i], 'html.parser')\n",
    "    data = []\n",
    "    if soup.find('table') is None:\n",
    "        fill_df(urls[i],data)\n",
    "        continue\n",
    "    for tr in soup.find_all('tr'):\n",
    "        tds = tr.find_all('td')\n",
    "        data.append([td.text.strip() for td in tds])\n",
    "    fill_df(urls[i],data)"
   ]
  },
  {
   "cell_type": "code",
   "execution_count": 90,
   "metadata": {},
   "outputs": [],
   "source": [
    "from concurrent.futures import ThreadPoolExecutor\n",
    "try:\n",
    "    asyncio.get_running_loop()\n",
    "    with ThreadPoolExecutor(1) as pool:\n",
    "        result = pool.submit(lambda: asyncio.run(get_data())).result()\n",
    "except RuntimeError:\n",
    "    result = asyncio.run(get_data())"
   ]
  }
 ],
 "metadata": {
  "kernelspec": {
   "display_name": "webscrape",
   "language": "python",
   "name": "python3"
  },
  "language_info": {
   "codemirror_mode": {
    "name": "ipython",
    "version": 3
   },
   "file_extension": ".py",
   "mimetype": "text/x-python",
   "name": "python",
   "nbconvert_exporter": "python",
   "pygments_lexer": "ipython3",
   "version": "3.11.0"
  },
  "orig_nbformat": 4,
  "vscode": {
   "interpreter": {
    "hash": "2312a2784c7cf9495d3552f4408944283f59e3860b0617880ff739a7a12dc016"
   }
  }
 },
 "nbformat": 4,
 "nbformat_minor": 2
}
